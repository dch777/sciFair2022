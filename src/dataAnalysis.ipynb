{
 "cells": [
  {
   "cell_type": "code",
   "execution_count": 1,
   "id": "adba705c",
   "metadata": {},
   "outputs": [],
   "source": [
    "import numpy as np\n",
    "import pandas as pd\n",
    "import cv2\n",
    "import os\n",
    "import math\n",
    "import itertools\n",
    "from time import time\n",
    "import pickle\n",
    "import matplotlib.pyplot as plt\n",
    "\n",
    "from sklearn.model_selection import train_test_split\n",
    "\n",
    "from sklearn.linear_model import LogisticRegression\n",
    "from sklearn.neighbors import KNeighborsClassifier\n",
    "from sklearn.svm import SVC\n",
    "from sklearn.ensemble import RandomForestClassifier\n",
    "from sklearn.naive_bayes import GaussianNB\n",
    "from sklearn import model_selection\n",
    "from sklearn.utils import class_weight\n",
    "from sklearn.metrics import classification_report\n",
    "from sklearn.metrics import confusion_matrix"
   ]
  },
  {
   "cell_type": "code",
   "execution_count": 2,
   "id": "40a5bdf7",
   "metadata": {},
   "outputs": [],
   "source": [
    "data_dir = \"../data/markup_data/ad_control\""
   ]
  },
  {
   "cell_type": "code",
   "execution_count": 3,
   "id": "9be09b8e",
   "metadata": {},
   "outputs": [],
   "source": [
    "cilia = []\n",
    "with open(\"cilia.pkl\", \"rb\") as file:\n",
    "    cilia = pickle.load(file)\n",
    "    \n",
    "for f in cilia:\n",
    "    for l in f:\n",
    "        l.append(math.sqrt((l[0] - l[2])**2 + (l[1] - l[3])**2))\n",
    "        l.append(int(\"AD\" in l[5] or \"Ad\" in l[5]))"
   ]
  },
  {
   "cell_type": "code",
   "execution_count": 4,
   "id": "2a348a26",
   "metadata": {},
   "outputs": [],
   "source": [
    "relationships = []\n",
    "\n",
    "for i, img_path in enumerate(os.listdir(data_dir)):\n",
    "    img_path = data_dir + \"/\" + img_path\n",
    "    img = cv2.imread(img_path)\n",
    "    \n",
    "    for lines in itertools.combinations(cilia[i], 2):\n",
    "        a1 = lines[0][3] - lines[0][1]\n",
    "        b1 = lines[0][0] - lines[0][2]\n",
    "        c1 = a1*lines[0][0] + b1*lines[0][1]\n",
    "        \n",
    "        a2 = lines[1][3] - lines[1][1]\n",
    "        b2 = lines[1][0] - lines[1][2]\n",
    "        c2 = a2*lines[1][0] + b2*lines[1][1]\n",
    "        \n",
    "        determinant = a1*b2 - a2*b1\n",
    "        \n",
    "        distance = min([min(math.sqrt((lines[0][0] - line[0])**2 + (lines[0][1] - line[1])**2),\n",
    "                      math.sqrt((lines[0][2] - line[2])**2 + (lines[0][3] - line[3])**2)) \n",
    "                      for line in itertools.permutations(lines[1][:4], 4)])\n",
    "        \n",
    "        if determinant != 0:\n",
    "            x = (c1*b2 - c2*b1)/determinant\n",
    "            y = (a1*c2 - a2*c1)/determinant\n",
    "\n",
    "            d1 = min(math.sqrt((lines[0][0] - x)**2 + (lines[0][1] - y)**2),\n",
    "                     math.sqrt((lines[0][2] - x)**2 + (lines[0][3] - y)**2))\n",
    "            d2 = min(math.sqrt((lines[1][0] - x)**2 + (lines[1][1] - y)**2),\n",
    "                     math.sqrt((lines[1][2] - x)**2 + (lines[1][3] - y)**2))\n",
    "            \n",
    "            v1 = np.array([lines[0][0] - lines[0][2], lines[0][1] - lines[0][3]])\n",
    "            v2 = np.array([lines[1][0] - lines[1][2], lines[1][1] - lines[1][3]])\n",
    "            \n",
    "            dot_product = np.dot(v1 / np.linalg.norm(v1), v2 / np.linalg.norm(v2))\n",
    "            angle = 180 * np.arccos(dot_product) / np.pi\n",
    "            \n",
    "            if d1 < 12 and d2 < 12:\n",
    "                relationships.append([lines[0][4], lines[1][4], angle, distance])\n",
    "                lines[0].append(angle)\n",
    "                lines[1].append(angle)\n",
    "                lines[0].append(distance)\n",
    "                lines[1].append(distance)\n",
    "            \n",
    "            if 0 <= x <= 1000 and 0 <= y <= 1000:\n",
    "                img = cv2.circle(img, (int(x),int(y)), 1, (0,255,0), -1)\n",
    "        else:\n",
    "            angle = 180\n",
    "            \n",
    "            if distance < 6:\n",
    "                relationships.append([lines[0][4], lines[1][4], angle, distance])\n",
    "                lines[0].append(angle)\n",
    "                lines[1].append(angle)\n",
    "                lines[0].append(distance)\n",
    "                lines[1].append(distance)"
   ]
  },
  {
   "cell_type": "code",
   "execution_count": 5,
   "id": "269e9752",
   "metadata": {},
   "outputs": [],
   "source": [
    "cilia_df = pd.DataFrame([c for f in cilia for c in f], \n",
    "                        columns=[\"x1\", \"y1\", \"x2\", \"y2\", \"ID\", \"filename\", \n",
    "                                 \"length\", \"AD\", \"angle1\", \"segmentation1\", \n",
    "                                 \"angle2\", \"segmentation2\"])\n",
    "relationships_df = pd.DataFrame(relationships, columns=[\"cilia1\", \"cilia2\", \"angle\", \"distance\"])\n",
    "\n",
    "num_relationships = []\n",
    "for i in cilia_df[\"ID\"]:\n",
    "    if i in list(relationships_df[\"cilia1\"]):\n",
    "        num_relationships.append(relationships_df[\"cilia1\"].value_counts()[i])\n",
    "    else:\n",
    "        num_relationships.append(0)\n",
    "    if i in list(relationships_df[\"cilia2\"]):\n",
    "        num_relationships[i] += relationships_df[\"cilia2\"].value_counts()[i]\n",
    "    \n",
    "cilia_df[\"relationships\"] = num_relationships\n",
    "\n",
    "cilia_df = cilia_df.reindex(columns=[\"ID\", \"filename\", \"length\", \"relationships\",\n",
    "                                     \"angle1\", \"segmentation1\", \"angle2\", \n",
    "                                     \"segmentation2\", \"AD\"])\n",
    "cilia_df.fillna(-1, inplace=True)"
   ]
  },
  {
   "cell_type": "code",
   "execution_count": 6,
   "id": "cdc0e904",
   "metadata": {},
   "outputs": [],
   "source": [
    "cilia_df.to_csv(\"cilia.csv\")"
   ]
  },
  {
   "cell_type": "code",
   "execution_count": 28,
   "id": "f88a74e1",
   "metadata": {},
   "outputs": [
    {
     "data": {
      "text/plain": [
       "[<matplotlib.lines.Line2D at 0x7f07cf52a2f0>]"
      ]
     },
     "execution_count": 28,
     "metadata": {},
     "output_type": "execute_result"
    },
    {
     "data": {
      "image/png": "[encoded data removed]",
      "text/plain": [
       "<Figure size 432x288 with 1 Axes>"
      ]
     },
     "metadata": {},
     "output_type": "display_data"
    }
   ],
   "source": [
    "#plt.hist(cilia_df[cilia_df[\"AD\"] == 1][\"length\"], alpha=0.5, bins=range(0, 33, 3))\n",
    "plt.plot(cilia_df[cilia_df[\"AD\"] == 0][\"angle1\"], cilia_df[cilia_df[\"AD\"] == 0][\"segmentation1\"], \"bo\")\n",
    "plt.plot(cilia_df[cilia_df[\"AD\"] == 1][\"angle1\"], cilia_df[cilia_df[\"AD\"] == 1][\"segmentation1\"], \"ro\")"
   ]
  },
  {
   "cell_type": "code",
   "execution_count": 21,
   "id": "2171d708",
   "metadata": {},
   "outputs": [],
   "source": [
    "X = np.array(cilia_df[[\"length\", \"relationships\", \"angle1\", \"segmentation1\"]])\n",
    "y = np.array(cilia_df[\"AD\"])\n",
    "\n",
    "X_train, X_test, y_train, y_test = train_test_split(X, y, test_size=0.15)"
   ]
  },
  {
   "cell_type": "code",
   "execution_count": 23,
   "id": "ae3dd873",
   "metadata": {},
   "outputs": [
    {
     "name": "stderr",
     "output_type": "stream",
     "text": [
      "/home/dchanana/Projects/sciFair2022/venv/lib/python3.10/site-packages/sklearn/metrics/_classification.py:1318: UndefinedMetricWarning: Precision is ill-defined and being set to 0.0 in labels with no predicted samples. Use `zero_division` parameter to control this behavior.\n",
      "  _warn_prf(average, modifier, msg_start, len(result))\n"
     ]
    },
    {
     "name": "stdout",
     "output_type": "stream",
     "text": [
      "LogReg\n",
      "              precision    recall  f1-score   support\n",
      "\n",
      "          AD       0.38      0.71      0.50         7\n",
      "       No AD       0.00      0.00      0.00         8\n",
      "\n",
      "    accuracy                           0.33        15\n",
      "   macro avg       0.19      0.36      0.25        15\n",
      "weighted avg       0.18      0.33      0.23        15\n",
      "\n",
      "RF\n",
      "              precision    recall  f1-score   support\n",
      "\n",
      "          AD       0.56      0.71      0.63         7\n",
      "       No AD       0.67      0.50      0.57         8\n",
      "\n",
      "    accuracy                           0.60        15\n",
      "   macro avg       0.61      0.61      0.60        15\n",
      "weighted avg       0.61      0.60      0.60        15\n",
      "\n",
      "KNN\n",
      "              precision    recall  f1-score   support\n",
      "\n",
      "          AD       0.44      0.57      0.50         7\n",
      "       No AD       0.50      0.38      0.43         8\n",
      "\n",
      "    accuracy                           0.47        15\n",
      "   macro avg       0.47      0.47      0.46        15\n",
      "weighted avg       0.47      0.47      0.46        15\n",
      "\n",
      "SVM\n",
      "              precision    recall  f1-score   support\n",
      "\n",
      "          AD       0.47      1.00      0.64         7\n",
      "       No AD       0.00      0.00      0.00         8\n",
      "\n",
      "    accuracy                           0.47        15\n",
      "   macro avg       0.23      0.50      0.32        15\n",
      "weighted avg       0.22      0.47      0.30        15\n",
      "\n",
      "GNB\n",
      "              precision    recall  f1-score   support\n",
      "\n",
      "          AD       0.38      0.43      0.40         7\n",
      "       No AD       0.43      0.38      0.40         8\n",
      "\n",
      "    accuracy                           0.40        15\n",
      "   macro avg       0.40      0.40      0.40        15\n",
      "weighted avg       0.40      0.40      0.40        15\n",
      "\n"
     ]
    },
    {
     "name": "stderr",
     "output_type": "stream",
     "text": [
      "/home/dchanana/Projects/sciFair2022/venv/lib/python3.10/site-packages/sklearn/metrics/_classification.py:1318: UndefinedMetricWarning: Precision is ill-defined and being set to 0.0 in labels with no predicted samples. Use `zero_division` parameter to control this behavior.\n",
      "  _warn_prf(average, modifier, msg_start, len(result))\n",
      "/home/dchanana/Projects/sciFair2022/venv/lib/python3.10/site-packages/sklearn/metrics/_classification.py:1318: UndefinedMetricWarning: Precision is ill-defined and being set to 0.0 in labels with no predicted samples. Use `zero_division` parameter to control this behavior.\n",
      "  _warn_prf(average, modifier, msg_start, len(result))\n",
      "/home/dchanana/Projects/sciFair2022/venv/lib/python3.10/site-packages/sklearn/metrics/_classification.py:1318: UndefinedMetricWarning: Precision is ill-defined and being set to 0.0 in labels with no predicted samples. Use `zero_division` parameter to control this behavior.\n",
      "  _warn_prf(average, modifier, msg_start, len(result))\n",
      "/home/dchanana/Projects/sciFair2022/venv/lib/python3.10/site-packages/sklearn/metrics/_classification.py:1318: UndefinedMetricWarning: Precision is ill-defined and being set to 0.0 in labels with no predicted samples. Use `zero_division` parameter to control this behavior.\n",
      "  _warn_prf(average, modifier, msg_start, len(result))\n",
      "/home/dchanana/Projects/sciFair2022/venv/lib/python3.10/site-packages/sklearn/metrics/_classification.py:1318: UndefinedMetricWarning: Precision and F-score are ill-defined and being set to 0.0 in labels with no predicted samples. Use `zero_division` parameter to control this behavior.\n",
      "  _warn_prf(average, modifier, msg_start, len(result))\n",
      "/home/dchanana/Projects/sciFair2022/venv/lib/python3.10/site-packages/sklearn/metrics/_classification.py:1318: UndefinedMetricWarning: Precision and F-score are ill-defined and being set to 0.0 in labels with no predicted samples. Use `zero_division` parameter to control this behavior.\n",
      "  _warn_prf(average, modifier, msg_start, len(result))\n",
      "/home/dchanana/Projects/sciFair2022/venv/lib/python3.10/site-packages/sklearn/metrics/_classification.py:1318: UndefinedMetricWarning: Precision and F-score are ill-defined and being set to 0.0 in labels with no predicted samples. Use `zero_division` parameter to control this behavior.\n",
      "  _warn_prf(average, modifier, msg_start, len(result))\n"
     ]
    }
   ],
   "source": [
    "models = [('LogReg', LogisticRegression()), \n",
    "          ('RF', RandomForestClassifier()),\n",
    "          ('KNN', KNeighborsClassifier()),\n",
    "          ('SVM', SVC()), \n",
    "          ('GNB', GaussianNB())]\n",
    "dfs = []\n",
    "\n",
    "results = []\n",
    "names = []\n",
    "scoring = ['accuracy', 'precision_weighted', 'recall_weighted', 'f1_weighted', 'roc_auc']\n",
    "target_names = ['AD', 'No AD']\n",
    "for name, model in models:\n",
    "    kfold = model_selection.KFold(n_splits=5, shuffle=True)\n",
    "    cv_results = model_selection.cross_validate(model, X_train, y_train, cv=kfold, scoring=scoring)\n",
    "    clf = model.fit(X_train, y_train)\n",
    "    y_pred = clf.predict(X_test)\n",
    "    print(name)\n",
    "    print(classification_report(y_test, y_pred, target_names=target_names))\n",
    "\n",
    "results.append(cv_results)\n",
    "names.append(name)\n",
    "this_df = pd.DataFrame(cv_results)\n",
    "this_df['model'] = name\n",
    "\n",
    "dfs.append(this_df)\n",
    "final = pd.concat(dfs, ignore_index=True)"
   ]
  },
  {
   "cell_type": "code",
   "execution_count": 42,
   "id": "6a035ab1",
   "metadata": {},
   "outputs": [
    {
     "data": {
      "text/plain": [
       "(array([46.,  6.,  0.,  0.,  0.,  1.,  0.,  0.,  0.,  0.,  0.,  1.,  0.,\n",
       "         0.,  0.,  0.,  0.,  0.,  0.,  0.,  0.,  0.,  0.,  0.,  0.,  0.,\n",
       "         0.,  0.,  0.,  0.]),\n",
       " array([-1,  0,  1,  2,  3,  4,  5,  6,  7,  8,  9, 10, 11, 12, 13, 14, 15,\n",
       "        16, 17, 18, 19, 20, 21, 22, 23, 24, 25, 26, 27, 28, 29]),\n",
       " <BarContainer object of 30 artists>)"
      ]
     },
     "execution_count": 42,
     "metadata": {},
     "output_type": "execute_result"
    },
    {
     "data": {
      "image/png": "[encoded data removed]",
      "text/plain": [
       "<Figure size 432x288 with 1 Axes>"
      ]
     },
     "metadata": {},
     "output_type": "display_data"
    }
   ],
   "source": [
    "#plt.hist(cilia_df[cilia_df[\"AD\"] == 1][\"length\"], alpha=0.5, bins=range(0, 33, 3))\n",
    "plt.hist(cilia_df[cilia_df[\"AD\"] == 0][\"segmentation2\"], bins=range(-1,30), alpha=0.5)"
   ]
  },
  {
   "cell_type": "code",
   "execution_count": 43,
   "id": "a1b838a6",
   "metadata": {},
   "outputs": [
    {
     "data": {
      "text/plain": [
       "(array([40.,  0.,  0.,  3.,  0.,  1.,  0.,  0.,  0.,  0.,  0.,  0.,  0.,\n",
       "         0.,  0.,  0.,  0.,  0.,  0.,  0.,  0.,  0.,  0.,  0.,  0.,  0.,\n",
       "         0.,  0.,  0.,  0.]),\n",
       " array([-1,  0,  1,  2,  3,  4,  5,  6,  7,  8,  9, 10, 11, 12, 13, 14, 15,\n",
       "        16, 17, 18, 19, 20, 21, 22, 23, 24, 25, 26, 27, 28, 29]),\n",
       " <BarContainer object of 30 artists>)"
      ]
     },
     "execution_count": 43,
     "metadata": {},
     "output_type": "execute_result"
    },
    {
     "data": {
      "image/png": "[encoded data removed]",
      "text/plain": [
       "<Figure size 432x288 with 1 Axes>"
      ]
     },
     "metadata": {},
     "output_type": "display_data"
    }
   ],
   "source": [
    "plt.hist(cilia_df[cilia_df[\"AD\"] == 1][\"segmentation2\"], bins=range(-1,30), alpha=0.5)"
   ]
  }
 ],
 "metadata": {
  "kernelspec": {
   "display_name": "Python 3 (ipykernel)",
   "language": "python",
   "name": "python3"
  },
  "language_info": {
   "codemirror_mode": {
    "name": "ipython",
    "version": 3
   },
   "file_extension": ".py",
   "mimetype": "text/x-python",
   "name": "python",
   "nbconvert_exporter": "python",
   "pygments_lexer": "ipython3",
   "version": "3.10.1"
  }
 },
 "nbformat": 4,
 "nbformat_minor": 5
}
