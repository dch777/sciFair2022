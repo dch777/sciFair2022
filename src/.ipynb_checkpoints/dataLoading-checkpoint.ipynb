{
 "cells": [
  {
   "cell_type": "code",
   "execution_count": null,
   "id": "81ef8307",
   "metadata": {},
   "outputs": [],
   "source": [
    "%matplotlib notebook\n",
    "\n",
    "import numpy as np\n",
    "import pandas as pd\n",
    "from matplotlib import image\n",
    "from matplotlib import pyplot as plt\n",
    "from matplotlib.colors import rgb_to_hsv\n",
    "from skimage.morphology import skeletonize\n",
    "from skimage.morphology import binary_erosion\n",
    "from skimage.morphology import binary_dilation\n",
    "from skimage.feature import canny\n",
    "import ipywidgets as widgets\n",
    "from ipywidgets import *\n",
    "from IPython.display import display\n",
    "import cv2\n",
    "import os"
   ]
  },
  {
   "cell_type": "code",
   "execution_count": null,
   "id": "6a4c1434",
   "metadata": {},
   "outputs": [],
   "source": [
    "data_dir = \"../data/original_data\""
   ]
  },
  {
   "cell_type": "code",
   "execution_count": null,
   "id": "ea24d205",
   "metadata": {},
   "outputs": [],
   "source": [
    "def load_batch():\n",
    "    for folder in os.listdir(data_dir):\n",
    "        folder = data_dir + \"/\" + folder           \n",
    "        yield folder"
   ]
  },
  {
   "cell_type": "code",
   "execution_count": null,
   "id": "2dbde050",
   "metadata": {
    "scrolled": false
   },
   "outputs": [],
   "source": [
    "# create instance of loader, initialize ui state\n",
    "vis_batch_loader = load_batch()\n",
    "current_folder = next(vis_batch_loader)"
   ]
  },
  {
   "cell_type": "code",
   "execution_count": null,
   "id": "faf8a8bd",
   "metadata": {
    "scrolled": false
   },
   "outputs": [],
   "source": [
    "# ui stuff, just run the whole notebook and then you'll get a bunch \n",
    "# of buttons under this cell along with a plt plot of the masked image\n",
    "# buttons will apply various morphological operations to the mask, changing the image\n",
    "# reset will reset mask to original state\n",
    "# textbox contains current folder, not changeable\n",
    "\n",
    "def display_plot(folder):\n",
    "    lines = np.array([[[0, 0, 0, 0]]])\n",
    "    mask = np.zeros((1000, 1000), dtype=np.uint8)\n",
    "    compImg = np.zeros((1000, 1000, 3), dtype=np.uint8)\n",
    "\n",
    "    # generate mask/composite image\n",
    "    for imgPath in os.listdir(folder):\n",
    "        imgPath = folder + \"/\" + imgPath\n",
    "        img = cv2.imread(imgPath)\n",
    "        \n",
    "        blur = cv2.GaussianBlur(img, (1,1), 0)\n",
    "        hsv = cv2.cvtColor(blur, cv2.COLOR_BGR2HSV)\n",
    "        mask1 = cv2.inRange(hsv, (0, 50, 50), (12, 255, 255))\n",
    "        mask2 = cv2.inRange(hsv, (155, 50, 50), (180, 255, 255))\n",
    "        mask = cv2.bitwise_or(cv2.bitwise_or(mask1, mask2), mask)\n",
    "\n",
    "        compImg += (img / len(os.listdir(folder))).astype(np.uint8)\n",
    "    \n",
    "    # get lines\n",
    "    for imgPath in os.listdir(folder):\n",
    "        imgPath = folder + \"/\" + imgPath  \n",
    "        img = cv2.imread(imgPath)\n",
    "        \n",
    "        blur = cv2.GaussianBlur(img, (5,5), 0)\n",
    "        dst = cv2.Canny(blur[:,:,2], 50, 150)\n",
    "        tmp = cv2.HoughLinesP(dst, 1, np.pi / 180, 17, None, 6, 1)\n",
    "        contours, hierarchy = cv2.findContours(dst, cv2.RETR_CCOMP, cv2.CHAIN_APPROX_SIMPLE)\n",
    "        if tmp is not None:\n",
    "            lines = np.concatenate((lines, tmp))\n",
    "            #for i in range(0, len(tmp)):\n",
    "            #    l = tmp[i][0]\n",
    "            #    cv2.line(img, (l[0], l[1]), (l[2], l[3]), (0,0,255), 1, cv2.LINE_AA)\n",
    "        cv2.drawContours(blur, contours, -1, (0,0,255), 1)\n",
    "        #cv2.imshow(imgPath, blur)\n",
    "        #cv2.waitKey(0)\n",
    "        #cv2.destroyAllWindows()\n",
    "        \n",
    "    if lines is not None:\n",
    "        for i in range(0, len(lines)):\n",
    "            l = lines[i][0]\n",
    "            cv2.line(compImg, (l[0], l[1]), (l[2], l[3]), (0,0,255), 1, cv2.LINE_AA)\n",
    "    \n",
    "    axis[1].imshow(cv2.cvtColor(cv2.bitwise_and(compImg, compImg, mask=mask), cv2.COLOR_BGR2RGB))\n",
    "    #axis[1].imshow(cv2.cvtColor(compImg, cv2.COLOR_BGR2RGB))\n",
    "    axis[0].imshow(mask)\n",
    "\n",
    "def next_image(b):\n",
    "    global current_folder\n",
    "    current_folder = next(vis_batch_loader)\n",
    "    if current_folder is not None:\n",
    "        folder_text.value = current_folder\n",
    "        display_plot(current_folder)\n",
    "\n",
    "next_button = widgets.Button(\n",
    "    description='Next Image',\n",
    "    disabled=False,\n",
    "    icon='arrow-right'\n",
    ")\n",
    "next_button.on_click(next_image)\n",
    "\n",
    "folder_text = widgets.Text(\n",
    "    value=current_folder,\n",
    ")\n",
    "\n",
    "figure, axis = plt.subplots(1, 2)\n",
    "display_plot(current_folder)\n",
    "display(widgets.HBox([\n",
    "        next_button,\n",
    "        folder_text\n",
    "]))"
   ]
  }
 ],
 "metadata": {
  "kernelspec": {
   "display_name": "Python 3 (ipykernel)",
   "language": "python",
   "name": "python3"
  },
  "language_info": {
   "codemirror_mode": {
    "name": "ipython",
    "version": 3
   },
   "file_extension": ".py",
   "mimetype": "text/x-python",
   "name": "python",
   "nbconvert_exporter": "python",
   "pygments_lexer": "ipython3",
   "version": "3.10.1"
  }
 },
 "nbformat": 4,
 "nbformat_minor": 5
} 
