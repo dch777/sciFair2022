{
 "cells": [
  {
   "cell_type": "code",
   "execution_count": 1,
   "id": "adba705c",
   "metadata": {},
   "outputs": [],
   "source": [
    "import numpy as np\n",
    "import pandas as pd\n",
    "import cv2\n",
    "import os\n",
    "import math\n",
    "import itertools\n",
    "from time import time\n",
    "import pickle"
   ]
  },
  {
   "cell_type": "code",
   "execution_count": 2,
   "id": "40a5bdf7",
   "metadata": {},
   "outputs": [],
   "source": [
    "data_dir = \"../data/markup_data/ad_control\""
   ]
  },
  {
   "cell_type": "code",
   "execution_count": 3,
   "id": "9be09b8e",
   "metadata": {},
   "outputs": [],
   "source": [
    "cilia = []\n",
    "with open(\"cilia.pkl\", \"rb\") as file:\n",
    "    cilia = pickle.load(file)\n",
    "\n",
    "for f in cilia:\n",
    "    for l in f:\n",
    "        l.append(int(\"AD\" in l[5] or \"Ad\" in l[5]))"
   ]
  },
  {
   "cell_type": "code",
   "execution_count": 4,
   "id": "2a348a26",
   "metadata": {},
   "outputs": [],
   "source": [
    "relationships = []\n",
    "\n",
    "for i, img_path in enumerate(os.listdir(data_dir)):\n",
    "    img_path = data_dir + \"/\" + img_path\n",
    "    img = cv2.imread(img_path)\n",
    "    \n",
    "    for lines in itertools.combinations(cilia[i], 2):\n",
    "        a1 = lines[0][3] - lines[0][1]\n",
    "        b1 = lines[0][0] - lines[0][2]\n",
    "        c1 = a1*lines[0][0] + b1*lines[0][1]\n",
    "        \n",
    "        a2 = lines[1][3] - lines[1][1]\n",
    "        b2 = lines[1][0] - lines[1][2]\n",
    "        c2 = a2*lines[1][0] + b2*lines[1][1]\n",
    "        \n",
    "        determinant = a1*b2 - a2*b1\n",
    "        \n",
    "        distance = min([min(math.sqrt((lines[0][0] - line[0])**2 + (lines[0][1] - line[1])**2),\n",
    "                      math.sqrt((lines[0][2] - line[2])**2 + (lines[0][3] - line[3])**2)) \n",
    "                      for line in itertools.permutations(lines[1][:4], 4)])\n",
    "        \n",
    "        if determinant != 0:\n",
    "            x = (c1*b2 - c2*b1)/determinant\n",
    "            y = (a1*c2 - a2*c1)/determinant\n",
    "\n",
    "            d1 = min(math.sqrt((lines[0][0] - x)**2 + (lines[0][1] - y)**2),\n",
    "                     math.sqrt((lines[0][2] - x)**2 + (lines[0][3] - y)**2))\n",
    "            d2 = min(math.sqrt((lines[1][0] - x)**2 + (lines[1][1] - y)**2),\n",
    "                     math.sqrt((lines[1][2] - x)**2 + (lines[1][3] - y)**2))\n",
    "            \n",
    "            v1 = np.array([lines[0][0] - lines[0][2], lines[0][1] - lines[0][3]])\n",
    "            v2 = np.array([lines[1][0] - lines[1][2], lines[1][1] - lines[1][3]])\n",
    "            \n",
    "            dot_product = np.dot(v1 / np.linalg.norm(v1), v2 / np.linalg.norm(v2))\n",
    "            angle = 180 * np.arccos(dot_product) / np.pi\n",
    "            \n",
    "            if d1 < 12 and d2 < 12:\n",
    "                relationships.append([lines[0][4], lines[1][4], angle, distance])\n",
    "            \n",
    "            if 0 <= x <= 1000 and 0 <= y <= 1000:\n",
    "                img = cv2.circle(img, (int(x),int(y)), 1, (0,255,0), -1)\n",
    "        else:\n",
    "            angle = 180\n",
    "            \n",
    "            if distance < 6:\n",
    "                relationships.append([lines[0][4], lines[1][4], angle, distance])"
   ]
  },
  {
   "cell_type": "code",
   "execution_count": 5,
   "id": "269e9752",
   "metadata": {},
   "outputs": [],
   "source": [
    "cilia_df = pd.DataFrame([c for f in cilia for c in f], columns=[\"x1\", \"y1\", \"x2\", \"y2\", \"ID\", \"filename\", \"AD\"])\n",
    "cilia_df = cilia_df.reindex(columns=[\"ID\", \"x1\", \"y1\", \"x2\", \"y2\", \"filename\", \"AD\"])\n",
    "relationships_df = pd.DataFrame(relationships, columns=[\"cilia1\", \"cilia2\", \"angle\", \"segmentation\"])"
   ]
  },
  {
   "cell_type": "code",
   "execution_count": 6,
   "id": "cdc0e904",
   "metadata": {},
   "outputs": [],
   "source": [
    "cilia_df.to_csv(\"cilia.csv\")\n",
    "relationships_df.to_csv(\"cilia_relationships.csv\")"
   ]
  }
 ],
 "metadata": {
  "kernelspec": {
   "display_name": "Python 3 (ipykernel)",
   "language": "python",
   "name": "python3"
  },
  "language_info": {
   "codemirror_mode": {
    "name": "ipython",
    "version": 3
   },
   "file_extension": ".py",
   "mimetype": "text/x-python",
   "name": "python",
   "nbconvert_exporter": "python",
   "pygments_lexer": "ipython3",
   "version": "3.10.1"
  }
 },
 "nbformat": 4,
 "nbformat_minor": 5 
}
