{
 "cells": [
  {
   "cell_type": "code",
   "execution_count": 6,
   "id": "b89ac68b",
   "metadata": {},
   "outputs": [],
   "source": [
    "import numpy as np\n",
    "import pandas as pd\n",
    "import os"
   ]
  },
  {
   "cell_type": "code",
   "execution_count": 7,
   "id": "03cb1ef1",
   "metadata": {},
   "outputs": [],
   "source": [
    "data_dir = \"../data/\""
   ]
  },
  {
   "cell_type": "code",
   "execution_count": 10,
   "id": "c94ff0b0",
   "metadata": {},
   "outputs": [],
   "source": [
    "def load_batch():\n",
    "    for folder in os.listdir():\n",
    "        yield folder"
   ]
  },
  {
   "cell_type": "code",
   "execution_count": null,
   "id": "035f36ea",
   "metadata": {},
   "outputs": [],
   "source": [
    "next()"
   ]
  }
 ],
 "metadata": {
  "kernelspec": {
   "display_name": "Python 3 (ipykernel)",
   "language": "python",
   "name": "python3"
  },
  "language_info": {
   "codemirror_mode": {
    "name": "ipython",
    "version": 3
   },
   "file_extension": ".py",
   "mimetype": "text/x-python",
   "name": "python",
   "nbconvert_exporter": "python",
   "pygments_lexer": "ipython3",
   "version": "3.10.1"
  }
 },
 "nbformat": 4,
 "nbformat_minor": 5
}
